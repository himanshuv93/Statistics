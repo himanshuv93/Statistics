{
 "cells": [
  {
   "cell_type": "markdown",
   "id": "709e2699",
   "metadata": {},
   "source": [
    "# STATISTICS [MAJOR] Himanshu Verma"
   ]
  },
  {
   "cell_type": "markdown",
   "id": "b3961fbd",
   "metadata": {},
   "source": [
    "1. According to a study, the daily average time spent by a user on a social media websiteis 50minutes. To test the claim of \n",
    "this study, Ramesh are searcher, takes a sample of 25 website users and finds out that the mean time spent by the sample users \n",
    "is 60 minutes and the sample standard deviation is 30minutes. Based on this information, the null and the alternative hypotheses\n",
    "will be : \n",
    "Ho = The average time spent by the users is 50minutes ,H1 = The average time spent by the users is not 50 minutes \n",
    "Use a 5% significance level to test this hypothesis.\n",
    " ----------------------------------------------------------------------------------------------------------------------   \n",
    "Solution - \n",
    "Calculate the t-statistic using the formula:\n",
    "\n",
    "t = (sample mean - population mean) / (sample standard deviation / sqrt(sample size))\n",
    "\n",
    "Determine the degrees of freedom (df) using the formula:\n",
    "\n",
    "df = sample size - 1\n",
    "\n",
    "Use a t-distribution table or calculator to find the p-value associated with the t-statistic and df.\n",
    "Compare the p-value to the significance level. If the p-value is less than the significance level,reject the null hypothesis. Otherwise, fail to reject the null hypothesis.\n",
    "\n",
    "Using the given information, we can perform the t-test as follows:\n",
    "\n",
    "Null hypothesis: Ho: The average time spent by the users is 50 minutes.\n",
    "\n",
    "Alternative hypothesis: H1: The average time spent by the users is not 50 minutes.\n",
    "\n",
    "Level of significance: alpha = 0.05.\n",
    "\n",
    "Sample size n = 25, sample mean x̄ = 60, and sample standard deviation s = 30.\n",
    "\n",
    "Calculate the t-statistic:\n",
    "\n",
    "t = (x̄ - μ) / (s / sqrt(n))\n",
    "= (60 - 50) / (30 / sqrt(25))\n",
    "= 1.67\n",
    "\n",
    "Degrees of freedom: df = n - 1 = 24.\n",
    "\n",
    "Using a t-distribution table or calculator with df = 24 and alpha = 0.05, the p-value associated with a two-tailed\n",
    "test is approximately 0.109.\n",
    "\n",
    "Compare the p-value to the significance level. Since the p-value (0.109) is greater than the significance level (0.05),\n",
    "\n",
    "we fail to reject the null hypothesis. Therefore, we do not have sufficient evidence to conclude that the average\n",
    "\n",
    "time spent by users on the social media website is different from 50 minutes."
   ]
  },
  {
   "cell_type": "markdown",
   "id": "bdfd9790",
   "metadata": {},
   "source": [
    "### Q2  Height of 7 students (in cm) is given below. What is the median ? (168, 170, 169, 160, 162, 164, 162)"
   ]
  },
  {
   "cell_type": "code",
   "execution_count": 1,
   "id": "d916829b",
   "metadata": {},
   "outputs": [
    {
     "name": "stdout",
     "output_type": "stream",
     "text": [
      "The median is: 164\n"
     ]
    }
   ],
   "source": [
    "# 2. Height of 7 students (in cm) is given below. What is the median ? (168, 170, 169, 160, 162, 164, 162)\n",
    "\n",
    "a = (168, 170, 169, 160, 162, 164, 162)\n",
    "\n",
    "import statistics\n",
    "\n",
    "# Calculate the median\n",
    "median = statistics.median(a)\n",
    "\n",
    "print(\"The median is:\", median)"
   ]
  },
  {
   "cell_type": "markdown",
   "id": "ec0e8428",
   "metadata": {},
   "source": [
    "### Q3 Below are the observations of the marks of a student.Find the value of mode. 84, 85, 89, 92, 93, 89, 87, 89, 92."
   ]
  },
  {
   "cell_type": "code",
   "execution_count": 2,
   "id": "e9d71c85",
   "metadata": {},
   "outputs": [
    {
     "name": "stdout",
     "output_type": "stream",
     "text": [
      "The mode is :  89\n"
     ]
    }
   ],
   "source": [
    "# 3. Below are the observations of the marks of a student.Find the value of mode. 84, 85, 89, 92, 93, 89, 87, 89, 92.\n",
    "import statistics\n",
    "number = (84, 85, 89, 92, 93, 89, 87, 89, 92)\n",
    "\n",
    "# calculate the mode\n",
    "mode = statistics.mode(number) \n",
    "\n",
    "print(\"The mode is : \", mode)"
   ]
  },
  {
   "cell_type": "markdown",
   "id": "73f37359",
   "metadata": {},
   "source": [
    "### Q4  From the table given below, what is the mean of marks obtained by 20 students ?"
   ]
  },
  {
   "cell_type": "code",
   "execution_count": 3,
   "id": "1ee111d7",
   "metadata": {},
   "outputs": [
    {
     "data": {
      "text/plain": [
       "2.6"
      ]
     },
     "execution_count": 3,
     "metadata": {},
     "output_type": "execute_result"
    }
   ],
   "source": [
    "# 4. From the table given below, what is the mean of marks obtained by 20 students ?\n",
    "marks = (3, 4, 5, 6, 7, 8, 9, 10)\n",
    "No_of_students = (1, 2, 2, 4, 5, 3, 2, 1)  # Total 20\n",
    "total_of_marks = 52\n",
    "total_students = 20\n",
    "mean = total_of_marks/total_students\n",
    "mean"
   ]
  },
  {
   "cell_type": "markdown",
   "id": "b9e27833",
   "metadata": {},
   "source": [
    "  ###   5. For a certain type of computer, the length of time between charges of the battery is normally distributed with a mean of 50 hours and a standard deviation of 15 hours. John owns one of these computers and wants to know the probability that  the length of time will be between 50 and 70 hours. <br>\n",
    "  \n",
    " ## Solution <br>\n",
    "\n",
    "To solve this problem, we can use the z-score formula and standard normal distribution tables. First,\n",
    "we need to calculate the z-score for each of the two values:\n",
    "\n",
    "z1 = (50 - 50) / 15 = 0\n",
    "\n",
    "z2 = (70 - 50) / 15 = 1.33\n",
    "\n",
    "Here, z1 is the z-score for 50 hours (the mean) and z2 is the z-score for 70 hours.\n",
    "\n",
    "Next, we can use a standard normal distribution table or calculator to find the area under the standard normal curve\n",
    "between these two z-scores. Alternatively, we can use the formula:\n",
    "\n",
    "P(50 ≤ X ≤ 70) = P(z1 ≤ Z ≤ z2)\n",
    "\n",
    "Substituting the z-scores, we get:\n",
    "\n",
    "P(50 ≤ X ≤ 70) = P(0 ≤ Z ≤ 1.33)\n",
    "\n",
    "Using a standard normal distribution table, we can find that the area under the curve between 0 and 1.33 is 0.4082. \n",
    "Therefore, the probability that the length of time between charges of John's computer battery will be between 50 and 70 hours\n",
    "is approximately 0.4082 or 40.82%."
   ]
  },
  {
   "cell_type": "markdown",
   "id": "d02fc293",
   "metadata": {},
   "source": [
    "### 6. Find the range of the following. g=[10,23,12,21,14,17,16,11,15,19]\n",
    "### Solution -<br>\n",
    "range = largest number - smallest number <br>\n",
    "           range = 23 - 10 <br>\n",
    "           range = 13  <br>\n",
    "        answer - range is 13  <br>"
   ]
  },
  {
   "cell_type": "markdown",
   "id": "f95a77ea",
   "metadata": {},
   "source": [
    "### 7. It is estimated that 50% of emails are spam emails. Some software has been applied to filter these spam emails before they reach your inbox. A certain brand of software claims that it can detect 99% of spam emails, and the probability\n",
    "       for a false positive (a non-spam email detected as spam) is 5%. Now if an email is detected as spam, then what is the \n",
    "       probability that it is in fact a non - spam email ?\n",
    "\n",
    "### Solution -\n",
    "    S: The event that an email is spam.\n",
    "F: The event that an email is classified as spam by the software.\n",
    "We want to find the probability of the event \"not S\" given that F has occurred, which is written as P(not S | F).\n",
    "Using Bayes' theorem, we can write:\n",
    "\n",
    "P(not S | F) = P(F | not S) * P(not S) / P(F)\n",
    "\n",
    "where P(F | not S) is the probability of a non-spam email being classified as spam by the software,\n",
    "P(not S) is the probability of an email being non-spam, and P(F) is the probability of an email being classified as spam\n",
    "by the software (regardless of whether it is actually spam or not).\n",
    "\n",
    "We know that:\n",
    "\n",
    "P(S) = 0.5 (since 50% of emails are estimated to be spam)\n",
    "P(F | S) = 0.99 (since the software claims to detect 99% of spam emails)\n",
    "P(F | not S) = 0.05 (since the false positive rate is 5%)\n",
    "P(not S) = 1 - P(S) = 0.5 (since there are only two possibilities: an email is either spam or not spam)\n",
    "To calculate P(F), we can use the law of total probability, which states that:\n",
    "\n",
    "P(F) = P(F | S) * P(S) + P(F | not S) * P(not S)\n",
    "\n",
    "Substituting the values, we get:\n",
    "\n",
    "P(F) = 0.99 * 0.5 + 0.05 * 0.5 = 0.52\n",
    "\n",
    "Now we can substitute all the values in the formula for P(not S | F):\n",
    "\n",
    "P(not S | F) = P(F | not S) * P(not S) / P(F) = 0.05 * 0.5 / 0.52 = 0.048\n",
    "\n",
    "Therefore, the probability that an email detected as spam by the software is actually not spam (i.e., a false positive)\n",
    "is approximately 4.8%."
   ]
  },
  {
   "cell_type": "markdown",
   "id": "4906420f",
   "metadata": {},
   "source": [
    "### 8. Given the following distribution of returns, determine the lower quartile: {10, 25, 12, 21, 19, 17, 16, 11, 15, 19}<br>\n",
    "### Solution -\n",
    "arange in ascending order = {10, 11, 12, 15, 16, 17, 19, 19, 21, 25} <br>\n",
    "\n",
    "n = 10 <br>\n",
    "so,\n",
    "25% of 10 = 2.5 <br>\n",
    "\n",
    "(11+12)/2  # TANKING 2nd and 3rd VALUE BECAUSE THE THE NUMBER LIES BETWEEN 2 AND THIRD <br>\n",
    "\n",
    "23/2 <br>\n",
    "\n",
    "12 is the lower quartile <br>"
   ]
  },
  {
   "cell_type": "markdown",
   "id": "0c1503fa",
   "metadata": {},
   "source": [
    "### 9. For a Binomial distribution, the number of trials (n) is 25, and the probability of success is 0.3.\n",
    "What’s the variability of the distribution ?\n",
    "\n",
    "### Solution -\n",
    "\n",
    "For a binomial distribution with n trials and probability of success p, the variance is given by:\n",
    "\n",
    "Var(X) = np(1-p)\n",
    "\n",
    "Where X is the random variable that represents the number of successes in n trials.\n",
    "\n",
    "In this case, n = 25 and p = 0.3, so:\n",
    "\n",
    "Var(X) = 25 * 0.3 * (1 - 0.3) = 5.25\n",
    "\n",
    "Therefore, the variability (or standard deviation) of the distribution is the square root of the variance:\n",
    "\n",
    "SD(X) = sqrt(Var(X)) = sqrt(5.25) ≈ 2.29\n",
    "\n",
    "So the variability of this binomial distribution is approximately 2.29"
   ]
  },
  {
   "cell_type": "markdown",
   "id": "1abfc938",
   "metadata": {},
   "source": [
    "### Q10 Download the Cell Phone Survey Dataset and perform the below mentioned operations on the dataset:-"
   ]
  },
  {
   "cell_type": "code",
   "execution_count": 3,
   "id": "643d9876",
   "metadata": {},
   "outputs": [
    {
     "data": {
      "text/html": [
       "<div>\n",
       "<style scoped>\n",
       "    .dataframe tbody tr th:only-of-type {\n",
       "        vertical-align: middle;\n",
       "    }\n",
       "\n",
       "    .dataframe tbody tr th {\n",
       "        vertical-align: top;\n",
       "    }\n",
       "\n",
       "    .dataframe thead th {\n",
       "        text-align: right;\n",
       "    }\n",
       "</style>\n",
       "<table border=\"1\" class=\"dataframe\">\n",
       "  <thead>\n",
       "    <tr style=\"text-align: right;\">\n",
       "      <th></th>\n",
       "      <th>Gender</th>\n",
       "      <th>Carrier</th>\n",
       "      <th>Type</th>\n",
       "      <th>Usage</th>\n",
       "      <th>Signal strength</th>\n",
       "      <th>Value for the Dollar</th>\n",
       "      <th>Customer Service</th>\n",
       "    </tr>\n",
       "  </thead>\n",
       "  <tbody>\n",
       "    <tr>\n",
       "      <th>0</th>\n",
       "      <td>M</td>\n",
       "      <td>AT&amp;T</td>\n",
       "      <td>Smart</td>\n",
       "      <td>High</td>\n",
       "      <td>5</td>\n",
       "      <td>4</td>\n",
       "      <td>4</td>\n",
       "    </tr>\n",
       "    <tr>\n",
       "      <th>1</th>\n",
       "      <td>M</td>\n",
       "      <td>AT&amp;T</td>\n",
       "      <td>Smart</td>\n",
       "      <td>High</td>\n",
       "      <td>5</td>\n",
       "      <td>4</td>\n",
       "      <td>2</td>\n",
       "    </tr>\n",
       "    <tr>\n",
       "      <th>2</th>\n",
       "      <td>M</td>\n",
       "      <td>AT&amp;T</td>\n",
       "      <td>Smart</td>\n",
       "      <td>Average</td>\n",
       "      <td>4</td>\n",
       "      <td>4</td>\n",
       "      <td>4</td>\n",
       "    </tr>\n",
       "    <tr>\n",
       "      <th>3</th>\n",
       "      <td>M</td>\n",
       "      <td>AT&amp;T</td>\n",
       "      <td>Smart</td>\n",
       "      <td>Very high</td>\n",
       "      <td>2</td>\n",
       "      <td>3</td>\n",
       "      <td>3</td>\n",
       "    </tr>\n",
       "    <tr>\n",
       "      <th>4</th>\n",
       "      <td>M</td>\n",
       "      <td>AT&amp;T</td>\n",
       "      <td>Smart</td>\n",
       "      <td>Very high</td>\n",
       "      <td>5</td>\n",
       "      <td>5</td>\n",
       "      <td>2</td>\n",
       "    </tr>\n",
       "  </tbody>\n",
       "</table>\n",
       "</div>"
      ],
      "text/plain": [
       "  Gender Carrier   Type      Usage  Signal strength  Value for the Dollar  \\\n",
       "0      M    AT&T  Smart       High                5                     4   \n",
       "1      M    AT&T  Smart       High                5                     4   \n",
       "2      M    AT&T  Smart    Average                4                     4   \n",
       "3      M    AT&T  Smart  Very high                2                     3   \n",
       "4      M    AT&T  Smart  Very high                5                     5   \n",
       "\n",
       "   Customer Service  \n",
       "0                 4  \n",
       "1                 2  \n",
       "2                 4  \n",
       "3                 3  \n",
       "4                 2  "
      ]
     },
     "execution_count": 3,
     "metadata": {},
     "output_type": "execute_result"
    }
   ],
   "source": [
    "# 10 Download the Cell Phone Survey Dataset and perform the below mentioned operations on the dataset:-\n",
    "import pandas as pd\n",
    "\n",
    "import numpy as np\n",
    "\n",
    "import statistics\n",
    "\n",
    "df = pd.read_csv(\"C:/Users/Himanshu/Desktop/Datasets/Cell Phone Survey.csv\")\n",
    "\n",
    "df.head()"
   ]
  },
  {
   "cell_type": "code",
   "execution_count": 8,
   "id": "183742e9",
   "metadata": {},
   "outputs": [
    {
     "data": {
      "text/plain": [
       "Gender                  object\n",
       "Carrier                 object\n",
       "Type                    object\n",
       "Usage                   object\n",
       "Signal strength          int64\n",
       "Value for the Dollar     int64\n",
       "Customer Service         int64\n",
       "dtype: object"
      ]
     },
     "execution_count": 8,
     "metadata": {},
     "output_type": "execute_result"
    }
   ],
   "source": [
    "# A:- Checking data types of each column in the dataset.\n",
    "\n",
    "df.dtypes"
   ]
  },
  {
   "cell_type": "code",
   "execution_count": 9,
   "id": "7186c8de",
   "metadata": {},
   "outputs": [
    {
     "name": "stdout",
     "output_type": "stream",
     "text": [
      "The mean of Signal strength is  3.3076923076923075\n"
     ]
    }
   ],
   "source": [
    "# B:- Find Mean of Signal strength column using Pandas and Statistics library.\n",
    "\n",
    "a = df['Signal strength']   # extract the column from dataframe \n",
    "\n",
    "b = statistics.mean(a)        # using statistics library finding the mean of that column\n",
    "\n",
    "print(\"The mean of Signal strength is \",b)"
   ]
  },
  {
   "cell_type": "code",
   "execution_count": 10,
   "id": "d196f278",
   "metadata": {},
   "outputs": [
    {
     "name": "stdout",
     "output_type": "stream",
     "text": [
      "The median of Customer Service is  3.0\n"
     ]
    }
   ],
   "source": [
    "# C:- Find the Median of Customer Service column using Pandas and Statistics library.\n",
    "\n",
    "c = df['Customer Service']\n",
    "\n",
    "d = statistics.median(c)\n",
    "\n",
    "print(\"The median of Customer Service is \", d)"
   ]
  },
  {
   "cell_type": "code",
   "execution_count": 11,
   "id": "3550ed07",
   "metadata": {},
   "outputs": [
    {
     "name": "stdout",
     "output_type": "stream",
     "text": [
      "The mode of Signal strength is  3\n"
     ]
    }
   ],
   "source": [
    "# D:- Find Mode of Signal strength column using Pandas and Statistics library\n",
    "\n",
    "a = df['Signal strength']   # extract the column from dataframe \n",
    "\n",
    "b = statistics.mode(a)        # using statistics library finding the mean of that column\n",
    "\n",
    "print(\"The mode of Signal strength is \",b)"
   ]
  },
  {
   "cell_type": "code",
   "execution_count": 12,
   "id": "624d804b",
   "metadata": {},
   "outputs": [
    {
     "data": {
      "text/plain": [
       "3    20\n",
       "4    16\n",
       "2     8\n",
       "5     6\n",
       "1     2\n",
       "Name: Signal strength, dtype: int64"
      ]
     },
     "execution_count": 12,
     "metadata": {},
     "output_type": "execute_result"
    }
   ],
   "source": [
    "df['Signal strength'].value_counts()"
   ]
  },
  {
   "cell_type": "code",
   "execution_count": 13,
   "id": "a2ccc91e",
   "metadata": {},
   "outputs": [
    {
     "name": "stdout",
     "output_type": "stream",
     "text": [
      "The Standard deviation of Customer Service is  0.9623375261979595\n"
     ]
    }
   ],
   "source": [
    "# E:- Find Standard deviation of Customer Service column using Pandas and Statistics library.\n",
    "\n",
    "c = df['Customer Service']\n",
    "\n",
    "d = statistics.stdev(c)\n",
    "\n",
    "print(\"The Standard deviation of Customer Service is \", d)"
   ]
  },
  {
   "cell_type": "code",
   "execution_count": 14,
   "id": "d04fbaa8",
   "metadata": {},
   "outputs": [
    {
     "name": "stdout",
     "output_type": "stream",
     "text": [
      "The variance of Customer Service is  0.9260935143288084\n"
     ]
    }
   ],
   "source": [
    "# F:- Find Variance of Customer Service column using Pandas and Statistics library\n",
    "\n",
    "c = df['Customer Service']\n",
    "\n",
    "d = statistics.variance(c)\n",
    "\n",
    "print(\"The variance of Customer Service is \", d)"
   ]
  },
  {
   "cell_type": "code",
   "execution_count": 15,
   "id": "36dcbc13",
   "metadata": {},
   "outputs": [
    {
     "name": "stdout",
     "output_type": "stream",
     "text": [
      "The 25th percentile of 'Value for the Dollar' column is: 3.0\n",
      "The 50th percentile of 'Value for the Dollar' column is: 3.0\n",
      "The 75th percentile of 'Value for the Dollar' column is: 4.0\n"
     ]
    }
   ],
   "source": [
    "# G:- Calculate Percentiles of Value for the Dollar column using Numpy\n",
    "\n",
    "value_for_dollar = np.array(df['Value for the Dollar']) # converting the column in array\n",
    "\n",
    "# Calculate the percentiles using the np.percentile() function\n",
    "p25 = np.percentile(value_for_dollar, 25)    # 25th percentile repesent the 25\n",
    "\n",
    "p50 = np.percentile(value_for_dollar, 50)    # 50th percentile repesent the 50\n",
    "\n",
    "p75 = np.percentile(value_for_dollar, 75)    # 75th percentile repesent the 75\n",
    "\n",
    "print(\"The 25th percentile of 'Value for the Dollar' column is:\", p25)\n",
    "\n",
    "print(\"The 50th percentile of 'Value for the Dollar' column is:\", p50)\n",
    "\n",
    "print(\"The 75th percentile of 'Value for the Dollar' column is:\", p75)"
   ]
  },
  {
   "cell_type": "code",
   "execution_count": 16,
   "id": "69af3ec4",
   "metadata": {},
   "outputs": [
    {
     "name": "stdout",
     "output_type": "stream",
     "text": [
      "The range of 'Value for the Dollar' column is: 4\n"
     ]
    }
   ],
   "source": [
    "# H:- Calculate Range of Value for the Dollar column using Pandas.\n",
    "\n",
    "value_for_dollar = df['Value for the Dollar']\n",
    "\n",
    "value_for_dollar_range = value_for_dollar.max() - value_for_dollar.min()\n",
    "\n",
    "print(\"The range of 'Value for the Dollar' column is:\", value_for_dollar_range)"
   ]
  },
  {
   "cell_type": "code",
   "execution_count": 17,
   "id": "27600bc5",
   "metadata": {},
   "outputs": [
    {
     "name": "stdout",
     "output_type": "stream",
     "text": [
      "The IQR of 'Value for the Dollar' column is: 1.0\n"
     ]
    }
   ],
   "source": [
    "# I:- Calculate IQR of Value for the Dollar column using Pandas.\n",
    "\n",
    "value_for_dollar = df['Value for the Dollar']\n",
    "\n",
    "q1 = value_for_dollar.quantile(0.25)\n",
    "\n",
    "q3 = value_for_dollar.quantile(0.75)\n",
    "\n",
    "iqr = q3 - q1\n",
    "\n",
    "print(\"The IQR of 'Value for the Dollar' column is:\", iqr)\n",
    "\n"
   ]
  },
  {
   "cell_type": "code",
   "execution_count": 22,
   "id": "7ed207ce",
   "metadata": {},
   "outputs": [
    {
     "name": "stdout",
     "output_type": "stream",
     "text": [
      "ANOVA results:\n",
      "F-value = 3.111194352801031 \n",
      "P-value = 0.05345420071280545\n",
      "The null hypothesis cannot be rejected. There is no significant difference in mean response for Value for dollar for different types of cell phones (p-value = 0.05345420071280545).\n"
     ]
    }
   ],
   "source": [
    "# J:- Hypothesis testing - Apply ANOVA to determine if the mean response for Value for the Dollar is the same for different types of cellphones\n",
    "# Group the data by Cellphone type\n",
    "cellphone_groups = df.groupby('Type')\n",
    "\n",
    "# Get the values for the Value for the Dollar column for each group\n",
    "group1 = cellphone_groups.get_group('Smart')['Value for the Dollar']\n",
    "group2 = cellphone_groups.get_group('Camera')['Value for the Dollar']\n",
    "group3 = cellphone_groups.get_group('Basic')['Value for the Dollar']\n",
    "\n",
    "# Perform ANOVA\n",
    "anova = stats.f_oneway(group1, group2, group3)\n",
    "print('ANOVA results:\\nF-value =', anova.statistic, '\\nP-value =', anova.pvalue)\n",
    "alpha = 0.05  # significance level\n",
    "\n",
    "if anova.pvalue <= alpha:\n",
    "    print(f\"The null hypothesis is rejected. There is a significant difference in mean response for Value for dollar for different types of cell phones (p-value = {anova.pvalue}).\")\n",
    "else:\n",
    "    print(f\"The null hypothesis cannot be rejected. There is no significant difference in mean response for Value for dollar for different types of cell phones (p-value = {anova.pvalue}).\")"
   ]
  },
  {
   "cell_type": "code",
   "execution_count": 19,
   "id": "f90ecac0",
   "metadata": {},
   "outputs": [
    {
     "data": {
      "text/plain": [
       "3.3076923076923075"
      ]
     },
     "execution_count": 19,
     "metadata": {},
     "output_type": "execute_result"
    }
   ],
   "source": [
    "statistics.mean(df['Signal strength'])"
   ]
  }
 ],
 "metadata": {
  "kernelspec": {
   "display_name": "Python 3 (ipykernel)",
   "language": "python",
   "name": "python3"
  },
  "language_info": {
   "codemirror_mode": {
    "name": "ipython",
    "version": 3
   },
   "file_extension": ".py",
   "mimetype": "text/x-python",
   "name": "python",
   "nbconvert_exporter": "python",
   "pygments_lexer": "ipython3",
   "version": "3.9.13"
  }
 },
 "nbformat": 4,
 "nbformat_minor": 5
}
